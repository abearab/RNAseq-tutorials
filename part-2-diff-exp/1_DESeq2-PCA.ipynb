{
 "cells": [
  {
   "cell_type": "markdown",
   "metadata": {},
   "source": [
    "# Load data"
   ]
  },
  {
   "cell_type": "markdown",
   "metadata": {},
   "source": [
    "You can save R objects to file and read them later to avoid running upstream steps over and over for your later exploratory data analysis!\n",
    "- http://www.sthda.com/english/wiki/saving-data-into-r-data-format-rds-and-rdata"
   ]
  },
  {
   "cell_type": "markdown",
   "metadata": {
    "tags": []
   },
   "source": [
    "### 1. Initiate R \n"
   ]
  },
  {
   "cell_type": "markdown",
   "metadata": {},
   "source": [
    "Load rpy2 to exert R within ipython notebook. "
   ]
  },
  {
   "cell_type": "code",
   "execution_count": null,
   "metadata": {},
   "outputs": [],
   "source": [
    "# %load_ext rpy2.ipython"
   ]
  },
  {
   "cell_type": "code",
   "execution_count": null,
   "metadata": {},
   "outputs": [],
   "source": [
    "# %%R \n",
    "library (GenomicFeatures)\n",
    "library (tximport)"
   ]
  },
  {
   "cell_type": "code",
   "execution_count": null,
   "metadata": {},
   "outputs": [],
   "source": [
    "library(tidyverse)"
   ]
  },
  {
   "cell_type": "markdown",
   "metadata": {
    "tags": []
   },
   "source": [
    "### 2. Load annotations"
   ]
  },
  {
   "cell_type": "markdown",
   "metadata": {},
   "source": [
    "Salmon measure transcript level abundance and we need a `tx2gene` variable to match transcripts to genes to be able to get gene level abundance. Here, we are using R functionalities to extract this directly from a `.gtf` file annotation. This is a good exercise for similar tasks! \n",
    "\n",
    "- [`gencode.v34.basic.annotation.gtf.gz` FTP Link](https://ftp.ebi.ac.uk/pub/databases/gencode/Gencode_human/release_34/gencode.v34.basic.annotation.gtf.gz)"
   ]
  },
  {
   "cell_type": "code",
   "execution_count": null,
   "metadata": {},
   "outputs": [],
   "source": [
    "# %%R \n",
    "\n",
    "GTF = '~/genomes/hg38/gencode.v34/gencode.v34.basic.annotation.gtf.gz'\n",
    "\n",
    "txdb  = makeTxDbFromGFF(GTF,organism='Homo sapiens')"
   ]
  },
  {
   "cell_type": "code",
   "execution_count": null,
   "metadata": {},
   "outputs": [],
   "source": [
    "# %%R \n",
    "# tx2gene objects \n",
    "k <- keys(txdb, keytype = \"TXNAME\")\n",
    "tx2gene <- AnnotationDbi::select(txdb, k, \"GENEID\", \"TXNAME\")"
   ]
  },
  {
   "cell_type": "markdown",
   "metadata": {
    "tags": []
   },
   "source": [
    "### 3. Load salmon quants "
   ]
  },
  {
   "cell_type": "markdown",
   "metadata": {},
   "source": [
    "- [Link to example salmon results zip file](https://github.com/abearab/RNAseq-tutorials/blob/main/part-2-diff-exp/full-quants.zip?raw=true)"
   ]
  },
  {
   "cell_type": "code",
   "execution_count": null,
   "metadata": {},
   "outputs": [],
   "source": [
    "# %%R\n",
    "files <- list.files(path='./quants', pattern=\"quant.sf\",full.names = TRUE, recursive=T)\n",
    "\n",
    "files"
   ]
  },
  {
   "cell_type": "code",
   "execution_count": null,
   "metadata": {},
   "outputs": [],
   "source": [
    "# %%R \n",
    "names(files) <- gsub(\"./quants/(\\\\S+)/quant.sf\",\"\\\\1\",files)\n",
    "\n",
    "files"
   ]
  },
  {
   "cell_type": "code",
   "execution_count": null,
   "metadata": {},
   "outputs": [],
   "source": [
    "# %%R \n",
    "txi <- tximport(files, type = \"salmon\", tx2gene = tx2gene, txOut=T)"
   ]
  },
  {
   "cell_type": "code",
   "execution_count": null,
   "metadata": {},
   "outputs": [],
   "source": [
    "# %%R \n",
    "txi.gene <- summarizeToGene(txi, tx2gene, ignoreAfterBar= TRUE)"
   ]
  },
  {
   "cell_type": "markdown",
   "metadata": {
    "tags": []
   },
   "source": [
    "### 4. Define the sample sheet"
   ]
  },
  {
   "cell_type": "code",
   "execution_count": null,
   "metadata": {},
   "outputs": [],
   "source": [
    "# %%R \n",
    "colnames(txi$abundance)"
   ]
  },
  {
   "cell_type": "code",
   "execution_count": null,
   "metadata": {},
   "outputs": [],
   "source": [
    "# %%R \n",
    "hours = c(rep('120h', 4), rep('6h',4), rep('72h',4))\n",
    "hours"
   ]
  },
  {
   "cell_type": "code",
   "execution_count": null,
   "metadata": {},
   "outputs": [],
   "source": [
    "# %%R \n",
    "# meta \n",
    "treats  <- rep(c(rep('DMSO',2), rep('treated',2)),3)\n",
    "reps    <- rep(c('rep1','rep2'),6)\n",
    "hours   <- c(rep('120h',4),rep('6h',4),rep('72h',4))\n",
    "\n",
    "colData <- data.frame(\n",
    "    time=hours, \n",
    "    cond=treats, \n",
    "    sample_id=paste(hours, treats, sep='_'),\n",
    "    row.names=colnames(txi$abundance))\n",
    "colData"
   ]
  },
  {
   "cell_type": "markdown",
   "metadata": {
    "tags": []
   },
   "source": [
    "### 5. Make DESeq2 object \n"
   ]
  },
  {
   "cell_type": "markdown",
   "metadata": {},
   "source": [
    "> `DESeqDataSet` is a subclass of `RangedSummarizedExperiment`, used to store the input values, intermediate calculations and results of an analysis of differential expression. The `DESeqDataSet` class enforces non-negative integer values in the \"counts\" matrix stored as the first element in the assay list. ([link](https://rdrr.io/bioc/DESeq2/man/DESeqDataSet.html\n",
    "))"
   ]
  },
  {
   "cell_type": "code",
   "execution_count": null,
   "metadata": {},
   "outputs": [],
   "source": [
    "# %%R \n",
    "library(DESeq2)"
   ]
  },
  {
   "cell_type": "code",
   "execution_count": null,
   "metadata": {},
   "outputs": [],
   "source": [
    "# %%R\n",
    "dds0 <- DESeqDataSetFromTximport(txi.gene, colData, ~cond + time )"
   ]
  },
  {
   "cell_type": "code",
   "execution_count": null,
   "metadata": {},
   "outputs": [],
   "source": [
    "# %%R \n",
    "class (dds0)"
   ]
  },
  {
   "cell_type": "code",
   "execution_count": null,
   "metadata": {},
   "outputs": [],
   "source": [
    "# %%R\n",
    "dim(dds0)"
   ]
  },
  {
   "cell_type": "code",
   "execution_count": null,
   "metadata": {},
   "outputs": [],
   "source": [
    "# %%R \n",
    "saveRDS(dds0, 'dds0.rds')"
   ]
  },
  {
   "cell_type": "markdown",
   "metadata": {
    "tags": []
   },
   "source": [
    "### 6. Run `DEseq`"
   ]
  },
  {
   "cell_type": "markdown",
   "metadata": {},
   "source": [
    "Filter genes with zero counts "
   ]
  },
  {
   "cell_type": "code",
   "execution_count": null,
   "metadata": {},
   "outputs": [],
   "source": [
    "# %%R \n",
    "dds <- DESeq(dds0)"
   ]
  },
  {
   "cell_type": "code",
   "execution_count": null,
   "metadata": {},
   "outputs": [],
   "source": [
    "# %%R \n",
    "saveRDS(dds, 'dds.rds')"
   ]
  },
  {
   "cell_type": "markdown",
   "metadata": {
    "tags": []
   },
   "source": [
    "### 4. Get normalized counts "
   ]
  },
  {
   "cell_type": "code",
   "execution_count": null,
   "metadata": {},
   "outputs": [],
   "source": [
    "# %%R \n",
    "dds <- readRDS('dds.rds')"
   ]
  },
  {
   "cell_type": "code",
   "execution_count": null,
   "metadata": {},
   "outputs": [],
   "source": [
    "# %%R \n",
    "ncu <- counts(dds, normalized=TRUE) \n",
    "head(ncu )"
   ]
  },
  {
   "cell_type": "markdown",
   "metadata": {},
   "source": [
    "Save counts to a text file:"
   ]
  },
  {
   "cell_type": "code",
   "execution_count": null,
   "metadata": {},
   "outputs": [],
   "source": [
    "# %%R \n",
    "write.table(ncu,'counts_DESeq2_norm.txt', sep=\"\\t\", quote=FALSE, col.names=row.names(colData))"
   ]
  },
  {
   "cell_type": "markdown",
   "metadata": {
    "tags": []
   },
   "source": [
    "### 6. Principal component analysis"
   ]
  },
  {
   "cell_type": "code",
   "execution_count": null,
   "metadata": {},
   "outputs": [],
   "source": [
    "vsd <- varianceStabilizingTransformation(dds)"
   ]
  },
  {
   "cell_type": "code",
   "execution_count": null,
   "metadata": {},
   "outputs": [],
   "source": [
    "# %%R \n",
    "z <- plotPCA(vsd,intgroup=c('time', 'cond'), returnData=TRUE)\n",
    "percentVar <- round(100 * attr(z, \"percentVar\"))"
   ]
  },
  {
   "cell_type": "markdown",
   "metadata": {},
   "source": [
    "Use [plotPCA](https://www.rdocumentation.org/packages/DESeq2/versions/1.12.3/topics/plotPCA) function and `ggplot2`. "
   ]
  },
  {
   "cell_type": "code",
   "execution_count": null,
   "metadata": {
    "scrolled": true
   },
   "outputs": [],
   "source": [
    "# %%R \n",
    "library(ggplot2)\n",
    "library(ggrepel)"
   ]
  },
  {
   "cell_type": "code",
   "execution_count": null,
   "metadata": {},
   "outputs": [],
   "source": [
    "# %%R \n",
    "p <- ggplot(z, aes(PC1, PC2)) +\n",
    "    geom_point(aes(size = 2), alpha = 4/10) +\n",
    "    geom_text_repel(aes(label = row.names(colData)),size = 3.5) +\n",
    "    xlab(paste0(\"PC1: \",percentVar[1],\"% variance\")) +\n",
    "    ylab(paste0(\"PC2: \",percentVar[2],\"% variance\")) +\n",
    "    guides (size = 'none') +\n",
    "    ggtitle (\"PCA plot\") + \n",
    "    theme(legend.position=\"none\")\n"
   ]
  },
  {
   "cell_type": "code",
   "execution_count": null,
   "metadata": {},
   "outputs": [],
   "source": [
    "p"
   ]
  },
  {
   "cell_type": "markdown",
   "metadata": {},
   "source": [
    "Above `p` variable is a `ggplot` object. Feel free to add more details or modify it to look better :)\n",
    "\n",
    "Here is some useful links: \n",
    "- https://rafalab.github.io/dsbook/ggplot2.html"
   ]
  },
  {
   "cell_type": "markdown",
   "metadata": {},
   "source": [
    "___\n",
    "# "
   ]
  },
  {
   "cell_type": "code",
   "execution_count": null,
   "metadata": {},
   "outputs": [],
   "source": [
    "# %%R\n",
    "sessionInfo()"
   ]
  }
 ],
 "metadata": {
  "kernelspec": {
   "display_name": "R [conda env:deseq2]",
   "language": "R",
   "name": "conda-env-deseq2-r"
  },
  "language_info": {
   "codemirror_mode": "r",
   "file_extension": ".r",
   "mimetype": "text/x-r-source",
   "name": "R",
   "pygments_lexer": "r",
   "version": "4.1.1"
  }
 },
 "nbformat": 4,
 "nbformat_minor": 4
}
