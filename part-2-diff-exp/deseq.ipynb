{
 "cells": [
  {
   "cell_type": "markdown",
   "metadata": {},
   "source": [
    "## Decitabine treatment RNA-Seq \n",
    "### Time-series experiments\n",
    "\n",
    "- In order to test for any differences over multiple time points, once can use a design including the time factor, and then test using the likelihood ratio test (LRT). \n",
    "- Here, as we have control (DMSO) and treatment (Decitabine) time series, design formula containing the condition factor, the time factor, and the interaction of the two. \n",
    "- In this case, using the likelihood ratio test with a reduced model which does not contain the interaction terms will test whether the condition induces a change in gene expression at any time point after the reference level time point (time 0).\n",
    "\n",
    "(see DESeq2 [Time-series-experiments for more details](http://bioconductor.org/packages/devel/bioc/vignettes/DESeq2/inst/doc/DESeq2.html#time-series-experiments))\n",
    "\n"
   ]
  },
  {
   "cell_type": "markdown",
   "metadata": {},
   "source": [
    "# Load data\n",
    "### 1. Initiate R \n"
   ]
  },
  {
   "cell_type": "markdown",
   "metadata": {},
   "source": [
    "Load rpy2 to exert R within ipython notebook. "
   ]
  },
  {
   "cell_type": "code",
   "execution_count": 7,
   "metadata": {
    "scrolled": false
   },
   "outputs": [
    {
     "name": "stdout",
     "output_type": "stream",
     "text": [
      "The rpy2.ipython extension is already loaded. To reload it, use:\n",
      "  %reload_ext rpy2.ipython\n"
     ]
    }
   ],
   "source": [
    "%load_ext rpy2.ipython"
   ]
  },
  {
   "cell_type": "code",
   "execution_count": 8,
   "metadata": {},
   "outputs": [],
   "source": [
    "%%R \n",
    "library (GenomicFeatures)\n",
    "library (tximport)\n",
    "# library (BiocParallel)\n",
    "# register(MulticoreParam(4))"
   ]
  },
  {
   "cell_type": "markdown",
   "metadata": {},
   "source": [
    "### 2. Load annotations"
   ]
  },
  {
   "cell_type": "code",
   "execution_count": 6,
   "metadata": {},
   "outputs": [
    {
     "name": "stdout",
     "output_type": "stream",
     "text": [
      "session-2-deseq.ipynb\r\n"
     ]
    }
   ],
   "source": [
    "!ls"
   ]
  },
  {
   "cell_type": "code",
   "execution_count": 11,
   "metadata": {},
   "outputs": [
    {
     "name": "stderr",
     "output_type": "stream",
     "text": [
      "R[write to console]: Import genomic features from the file as a GRanges object ... \n",
      "R[write to console]: OK\n",
      "\n",
      "R[write to console]: Prepare the 'metadata' data frame ... \n",
      "R[write to console]: OK\n",
      "\n",
      "R[write to console]: Make the TxDb object ... \n",
      "R[write to console]: OK\n",
      "\n"
     ]
    }
   ],
   "source": [
    "%%R \n",
    "GTF = '/rumi/shams/abe/genomes/hg38/gencode.v34/gencode.v34.basic.annotation.gtf.gz'\n",
    "# GTF = 'gencode.v34.basic.annotation.gtf.gz'\n",
    "txdb  = makeTxDbFromGFF(GTF,organism='Homo sapiens')\n",
    "# tx2gene objects "
   ]
  },
  {
   "cell_type": "code",
   "execution_count": 12,
   "metadata": {},
   "outputs": [],
   "source": [
    "%%R \n",
    "k <- keys(txdb, keytype = \"TXNAME\")"
   ]
  },
  {
   "cell_type": "code",
   "execution_count": 13,
   "metadata": {},
   "outputs": [
    {
     "name": "stderr",
     "output_type": "stream",
     "text": [
      "R[write to console]: 'select()' returned 1:1 mapping between keys and columns\n",
      "\n"
     ]
    }
   ],
   "source": [
    "%%R \n",
    "tx2gene <- AnnotationDbi::select(txdb, k, \"GENEID\", \"TXNAME\")"
   ]
  },
  {
   "cell_type": "markdown",
   "metadata": {},
   "source": [
    "### 3. Load salmon quants "
   ]
  },
  {
   "cell_type": "code",
   "execution_count": 21,
   "metadata": {},
   "outputs": [],
   "source": [
    "%%R\n",
    "# files <- list.files(path='./quants', pattern=\"quant.sf\",full.names = TRUE, recursive=T)\n",
    "files <- list.files(path='/rumi/shams/abe/Gilbertlab/Decitabine_treatment/RNA-seq/hl60-exp/quants', pattern=\"quant.sf\",full.names = TRUE, recursive=T)\n"
   ]
  },
  {
   "cell_type": "code",
   "execution_count": 22,
   "metadata": {},
   "outputs": [],
   "source": [
    "%%R \n",
    "# names(files) <- gsub(\"./quants/(\\\\S+)/quant.sf\",\"\\\\1\",files)\n",
    "names(files) <- gsub(\"/rumi/shams/abe/Gilbertlab/Decitabine_treatment/RNA-seq/hl60-exp/quants/(\\\\S+)/quant.sf\",\"\\\\1\",files)"
   ]
  },
  {
   "cell_type": "code",
   "execution_count": 23,
   "metadata": {},
   "outputs": [
    {
     "name": "stderr",
     "output_type": "stream",
     "text": [
      "R[write to console]: reading in files with read_tsv\n",
      "\n",
      "R[write to console]: 1 \n",
      "R[write to console]: 2 \n",
      "R[write to console]: 3 \n",
      "R[write to console]: 4 \n",
      "R[write to console]: 5 \n",
      "R[write to console]: 6 \n",
      "R[write to console]: 7 \n",
      "R[write to console]: 8 \n",
      "R[write to console]: 9 \n",
      "R[write to console]: 10 \n",
      "R[write to console]: 11 \n",
      "R[write to console]: 12 \n",
      "R[write to console]: \n",
      "\n"
     ]
    }
   ],
   "source": [
    "%%R \n",
    "txi <- tximport(files, type = \"salmon\", tx2gene = tx2gene, txOut=T)"
   ]
  },
  {
   "cell_type": "code",
   "execution_count": 24,
   "metadata": {},
   "outputs": [
    {
     "name": "stderr",
     "output_type": "stream",
     "text": [
      "R[write to console]: transcripts missing from tx2gene: 121656\n",
      "\n",
      "R[write to console]: summarizing abundance\n",
      "\n",
      "R[write to console]: summarizing counts\n",
      "\n",
      "R[write to console]: summarizing length\n",
      "\n"
     ]
    }
   ],
   "source": [
    "%%R \n",
    "txi.gene <- summarizeToGene(txi, tx2gene, ignoreAfterBar= TRUE)"
   ]
  },
  {
   "cell_type": "code",
   "execution_count": 25,
   "metadata": {},
   "outputs": [],
   "source": [
    "%%R \n",
    "saveRDS(txi.gene, 'txi.gene.rds')"
   ]
  },
  {
   "cell_type": "markdown",
   "metadata": {},
   "source": [
    "### 4. Define the sample sheet"
   ]
  },
  {
   "cell_type": "code",
   "execution_count": 13,
   "metadata": {},
   "outputs": [
    {
     "name": "stdout",
     "output_type": "stream",
     "text": [
      " [1] \"120h_DMSO_rep1\"    \"120h_DMSO_rep2\"    \"120h_treated_rep1\"\n",
      " [4] \"120h_treated_rep2\" \"6h_DMSO_rep1\"      \"6h_DMSO_rep2\"     \n",
      " [7] \"6h_treated_rep1\"   \"6h_treated_rep2\"   \"72h_DMSO_rep1\"    \n",
      "[10] \"72h_DMSO_rep2\"     \"72h_treated_rep1\"  \"72h_treated_rep2\" \n"
     ]
    }
   ],
   "source": [
    "%%R \n",
    "colnames(txi$abundance)"
   ]
  },
  {
   "cell_type": "code",
   "execution_count": 16,
   "metadata": {},
   "outputs": [
    {
     "name": "stdout",
     "output_type": "stream",
     "text": [
      " [1] \"120h\" \"120h\" \"120h\" \"120h\" \"6h\"   \"6h\"   \"6h\"   \"6h\"   \"72h\"  \"72h\" \n",
      "[11] \"72h\"  \"72h\" \n"
     ]
    }
   ],
   "source": [
    "%%R \n",
    "hours = c(rep('120h', 4), rep('6h',4), rep('72h',4))\n",
    "hours"
   ]
  },
  {
   "cell_type": "code",
   "execution_count": 17,
   "metadata": {},
   "outputs": [
    {
     "name": "stdout",
     "output_type": "stream",
     "text": [
      "                  time    cond    sample_id\n",
      "120h_DMSO_rep1    120h    DMSO    120h_DMSO\n",
      "120h_DMSO_rep2    120h    DMSO    120h_DMSO\n",
      "120h_treated_rep1 120h treated 120h_treated\n",
      "120h_treated_rep2 120h treated 120h_treated\n",
      "6h_DMSO_rep1        6h    DMSO      6h_DMSO\n",
      "6h_DMSO_rep2        6h    DMSO      6h_DMSO\n",
      "6h_treated_rep1     6h treated   6h_treated\n",
      "6h_treated_rep2     6h treated   6h_treated\n",
      "72h_DMSO_rep1      72h    DMSO     72h_DMSO\n",
      "72h_DMSO_rep2      72h    DMSO     72h_DMSO\n",
      "72h_treated_rep1   72h treated  72h_treated\n",
      "72h_treated_rep2   72h treated  72h_treated\n"
     ]
    }
   ],
   "source": [
    "%%R \n",
    "# meta \n",
    "treats  <- rep(c(rep('DMSO',2), rep('treated',2)),3)\n",
    "reps    <- rep(c('rep1','rep2'),6)\n",
    "hours   <- c(rep('120h',4),rep('6h',4),rep('72h',4))\n",
    "\n",
    "colData <- data.frame(\n",
    "    time=hours, \n",
    "    cond=treats, \n",
    "    sample_id=paste(hours, treats, sep='_'),\n",
    "    row.names=colnames(txi$abundance))\n",
    "colData"
   ]
  },
  {
   "cell_type": "markdown",
   "metadata": {},
   "source": [
    "# Quality control "
   ]
  },
  {
   "cell_type": "markdown",
   "metadata": {},
   "source": [
    "### 1. Make DESeq2 object "
   ]
  },
  {
   "cell_type": "code",
   "execution_count": 19,
   "metadata": {},
   "outputs": [],
   "source": [
    "%%R \n",
    "library(DESeq2)"
   ]
  },
  {
   "cell_type": "code",
   "execution_count": 20,
   "metadata": {},
   "outputs": [
    {
     "name": "stderr",
     "output_type": "stream",
     "text": [
      "R[write to console]: using counts and average transcript lengths from tximport\n",
      "\n"
     ]
    }
   ],
   "source": [
    "%%R\n",
    "dds0 <- DESeqDataSetFromTximport(txi, colData, ~cond + time )"
   ]
  },
  {
   "cell_type": "code",
   "execution_count": 21,
   "metadata": {},
   "outputs": [
    {
     "name": "stdout",
     "output_type": "stream",
     "text": [
      "[1] 203027\n"
     ]
    }
   ],
   "source": [
    "%%R\n",
    "nrow(dds0)"
   ]
  },
  {
   "cell_type": "code",
   "execution_count": 24,
   "metadata": {},
   "outputs": [
    {
     "name": "stdout",
     "output_type": "stream",
     "text": [
      "[1] \"DESeqDataSet\"\n",
      "attr(,\"package\")\n",
      "[1] \"DESeq2\"\n"
     ]
    }
   ],
   "source": [
    "%%R \n",
    "class (dds0)"
   ]
  },
  {
   "cell_type": "markdown",
   "metadata": {},
   "source": [
    "### 2. Statistical test"
   ]
  },
  {
   "cell_type": "markdown",
   "metadata": {},
   "source": [
    "Run deseq test "
   ]
  },
  {
   "cell_type": "code",
   "execution_count": 25,
   "metadata": {},
   "outputs": [
    {
     "name": "stderr",
     "output_type": "stream",
     "text": [
      "R[write to console]: estimating size factors\n",
      "\n",
      "R[write to console]: using 'avgTxLength' from assays(dds), correcting for library size\n",
      "\n",
      "R[write to console]: estimating dispersions\n",
      "\n",
      "R[write to console]: gene-wise dispersion estimates\n",
      "\n",
      "R[write to console]: mean-dispersion relationship\n",
      "\n",
      "R[write to console]: final dispersion estimates\n",
      "\n",
      "R[write to console]: fitting model and testing\n",
      "\n"
     ]
    }
   ],
   "source": [
    "%%R \n",
    "dds.pca <- DESeq(dds0)\n",
    "# results \n",
    "vsd <- varianceStabilizingTransformation(dds.pca)"
   ]
  },
  {
   "cell_type": "markdown",
   "metadata": {},
   "source": [
    "### 3. Principal component analysis\n",
    "Use [plotPCA](https://www.rdocumentation.org/packages/DESeq2/versions/1.12.3/topics/plotPCA) function and `ggplot2`. "
   ]
  },
  {
   "cell_type": "code",
   "execution_count": 33,
   "metadata": {
    "scrolled": true
   },
   "outputs": [],
   "source": [
    "%%R \n",
    "library(ggplot2)\n",
    "library(ggrepel)"
   ]
  },
  {
   "cell_type": "code",
   "execution_count": 30,
   "metadata": {},
   "outputs": [],
   "source": [
    "%%R \n",
    "plot_PCA <- function(vsd, colData=colData, gr=c('time', 'cond'), title=''){\n",
    "    z <- plotPCA(vsd,intgroup=gr, returnData=TRUE)\n",
    "    percentVar <- round(100 * attr(z, \"percentVar\"))\n",
    "    pca <- ggplot(z, aes(PC1, PC2)) +\n",
    "            geom_point(aes(size = 2), alpha = 4/10) +\n",
    "            geom_text_repel(aes(label = row.names(colData)),size = 3.5) +\n",
    "            xlab(paste0(\"PC1: \",percentVar[1],\"% variance\")) +\n",
    "            ylab(paste0(\"PC2: \",percentVar[2],\"% variance\")) +\n",
    "            guides (size = FALSE) +\n",
    "            ggtitle (title)+ \n",
    "            theme(legend.position=\"none\")\n",
    "    return (pca)\n",
    "}"
   ]
  },
  {
   "cell_type": "code",
   "execution_count": 34,
   "metadata": {},
   "outputs": [
    {
     "data": {
      "image/png": "[encoded data removed]"
     },
     "metadata": {},
     "output_type": "display_data"
    }
   ],
   "source": [
    "%%R \n",
    "pca = plot_PCA(vsd, colData)\n",
    "pca"
   ]
  },
  {
   "cell_type": "markdown",
   "metadata": {},
   "source": [
    "# Differential expression analysis\n",
    "\n",
    "[Theory behind DESeq2](http://bioconductor.org/packages/devel/bioc/vignettes/DESeq2/inst/doc/DESeq2.html#theory)!"
   ]
  },
  {
   "cell_type": "code",
   "execution_count": 1,
   "metadata": {
    "scrolled": false
   },
   "outputs": [],
   "source": [
    "%reload_ext rpy2.ipython"
   ]
  },
  {
   "cell_type": "code",
   "execution_count": 3,
   "metadata": {},
   "outputs": [],
   "source": [
    "%%R \n",
    "library (DESeq2)"
   ]
  },
  {
   "cell_type": "markdown",
   "metadata": {},
   "source": [
    "Let's load the R Object from previous section, to continue our analysis. "
   ]
  },
  {
   "cell_type": "code",
   "execution_count": 5,
   "metadata": {},
   "outputs": [],
   "source": [
    "%%R \n",
    "txi.gene <- readRDS('txi.gene.rds')"
   ]
  },
  {
   "cell_type": "markdown",
   "metadata": {},
   "source": [
    "### 1. Design linear model \n"
   ]
  },
  {
   "cell_type": "markdown",
   "metadata": {},
   "source": [
    "Here, we use `DESeqDataSetFromTximport` function from `DESeq2` package to take `salmon` gene level counts - previously imported into R using tximport. Then, we include condition table and a model design to build `DESeqDataSet` object. "
   ]
  },
  {
   "cell_type": "code",
   "execution_count": 6,
   "metadata": {},
   "outputs": [
    {
     "name": "stdout",
     "output_type": "stream",
     "text": [
      " [1] \"120h_DMSO_rep1\"    \"120h_DMSO_rep2\"    \"120h_treated_rep1\"\n",
      " [4] \"120h_treated_rep2\" \"6h_DMSO_rep1\"      \"6h_DMSO_rep2\"     \n",
      " [7] \"6h_treated_rep1\"   \"6h_treated_rep2\"   \"72h_DMSO_rep1\"    \n",
      "[10] \"72h_DMSO_rep2\"     \"72h_treated_rep1\"  \"72h_treated_rep2\" \n"
     ]
    }
   ],
   "source": [
    "%%R \n",
    "colnames(txi.gene$abundance)"
   ]
  },
  {
   "cell_type": "code",
   "execution_count": 10,
   "metadata": {},
   "outputs": [
    {
     "name": "stdout",
     "output_type": "stream",
     "text": [
      "                  time    cond\n",
      "120h_DMSO_rep1    120h    DMSO\n",
      "120h_DMSO_rep2    120h    DMSO\n",
      "120h_treated_rep1 120h treated\n",
      "120h_treated_rep2 120h treated\n",
      "6h_DMSO_rep1        6h    DMSO\n",
      "6h_DMSO_rep2        6h    DMSO\n",
      "6h_treated_rep1     6h treated\n",
      "6h_treated_rep2     6h treated\n",
      "72h_DMSO_rep1      72h    DMSO\n",
      "72h_DMSO_rep2      72h    DMSO\n",
      "72h_treated_rep1   72h treated\n",
      "72h_treated_rep2   72h treated\n"
     ]
    }
   ],
   "source": [
    "%%R \n",
    "# meta \n",
    "treats  <- rep(c(rep('DMSO',2), rep('treated',2)),3)\n",
    "reps    <- rep(c('rep1','rep2'),6)\n",
    "hours   <- c(rep('120h',4),rep('6h',4),rep('72h',4))\n",
    "\n",
    "colData <- data.frame(\n",
    "    time=hours, \n",
    "    cond=treats, \n",
    "    row.names=colnames(txi.gene$abundance))\n",
    "colData"
   ]
  },
  {
   "cell_type": "code",
   "execution_count": 15,
   "metadata": {},
   "outputs": [
    {
     "name": "stderr",
     "output_type": "stream",
     "text": [
      "R[write to console]: using counts and average transcript lengths from tximport\n",
      "\n"
     ]
    }
   ],
   "source": [
    "%%R \n",
    "dds <- DESeqDataSetFromTximport(txi.gene, colData, ~cond + time + cond:time)\n",
    "\n",
    "dds$time <- relevel(dds$time, ref=\"6h\")"
   ]
  },
  {
   "cell_type": "code",
   "execution_count": 16,
   "metadata": {},
   "outputs": [
    {
     "name": "stdout",
     "output_type": "stream",
     "text": [
      "[1] \"DESeqDataSet\"\n",
      "attr(,\"package\")\n",
      "[1] \"DESeq2\"\n"
     ]
    }
   ],
   "source": [
    "%%R \n",
    "class (dds)"
   ]
  },
  {
   "cell_type": "markdown",
   "metadata": {},
   "source": [
    "What's going on behind the scene when you design your model as `~cond + time + cond:time`?!"
   ]
  },
  {
   "cell_type": "code",
   "execution_count": 17,
   "metadata": {},
   "outputs": [
    {
     "name": "stdout",
     "output_type": "stream",
     "text": [
      "                  condtreated time6h time72h condtreated:time6h\n",
      "120h_DMSO_rep1              0      0       0                  0\n",
      "120h_DMSO_rep2              0      0       0                  0\n",
      "120h_treated_rep1           1      0       0                  0\n",
      "120h_treated_rep2           1      0       0                  0\n",
      "6h_DMSO_rep1                0      1       0                  0\n",
      "6h_DMSO_rep2                0      1       0                  0\n",
      "6h_treated_rep1             1      1       0                  1\n",
      "6h_treated_rep2             1      1       0                  1\n",
      "72h_DMSO_rep1               0      0       1                  0\n",
      "72h_DMSO_rep2               0      0       1                  0\n",
      "72h_treated_rep1            1      0       1                  0\n",
      "72h_treated_rep2            1      0       1                  0\n",
      "                  condtreated:time72h\n",
      "120h_DMSO_rep1                      0\n",
      "120h_DMSO_rep2                      0\n",
      "120h_treated_rep1                   0\n",
      "120h_treated_rep2                   0\n",
      "6h_DMSO_rep1                        0\n",
      "6h_DMSO_rep2                        0\n",
      "6h_treated_rep1                     0\n",
      "6h_treated_rep2                     0\n",
      "72h_DMSO_rep1                       0\n",
      "72h_DMSO_rep2                       0\n",
      "72h_treated_rep1                    1\n",
      "72h_treated_rep2                    1\n"
     ]
    }
   ],
   "source": [
    "%%R \n",
    "model.matrix (~cond + time + cond:time, colData)[,2:6]"
   ]
  },
  {
   "cell_type": "markdown",
   "metadata": {},
   "source": [
    "### 2. Run DESeq statistical test \n",
    "\n",
    "As suggested [here](http://bioconductor.org/packages/devel/bioc/vignettes/DESeq2/inst/doc/DESeq2.html#time-series-experiments), we use **likelihood ratio test** while we are working with time-series-experiments. "
   ]
  },
  {
   "cell_type": "code",
   "execution_count": 18,
   "metadata": {},
   "outputs": [
    {
     "name": "stderr",
     "output_type": "stream",
     "text": [
      "R[write to console]: estimating size factors\n",
      "\n",
      "R[write to console]: using 'avgTxLength' from assays(dds), correcting for library size\n",
      "\n",
      "R[write to console]: estimating dispersions\n",
      "\n",
      "R[write to console]: gene-wise dispersion estimates\n",
      "\n",
      "R[write to console]: mean-dispersion relationship\n",
      "\n",
      "R[write to console]: final dispersion estimates\n",
      "\n",
      "R[write to console]: fitting model and testing\n",
      "\n"
     ]
    }
   ],
   "source": [
    "%%R \n",
    "dds <- DESeq(dds, test=\"LRT\", reduced=~1)"
   ]
  },
  {
   "cell_type": "code",
   "execution_count": 19,
   "metadata": {},
   "outputs": [
    {
     "name": "stdout",
     "output_type": "stream",
     "text": [
      "[1] \"Intercept\"            \"cond_treated_vs_DMSO\" \"time_120h_vs_6h\"     \n",
      "[4] \"time_72h_vs_6h\"       \"condtreated.time120h\" \"condtreated.time72h\" \n"
     ]
    }
   ],
   "source": [
    "%%R \n",
    "resultsNames(dds)"
   ]
  },
  {
   "cell_type": "code",
   "execution_count": 21,
   "metadata": {},
   "outputs": [],
   "source": [
    "%%R \n",
    "# contrast design: treatment at 120h vs dmso at 120h\n",
    "res = results(dds, contrast=list('cond_treated_vs_DMSO', 'condtreated.time120h'))"
   ]
  },
  {
   "cell_type": "markdown",
   "metadata": {},
   "source": [
    "### 3. Add gene name column and write results into a text file"
   ]
  },
  {
   "cell_type": "markdown",
   "metadata": {},
   "source": [
    "Why not using Excel?! see [this paper](https://genomebiology.biomedcentral.com/articles/10.1186/s13059-016-1044-7)!\n",
    "\n",
    "Ok! Let's add gene names for each ensemble ids to make it readable. "
   ]
  },
  {
   "cell_type": "code",
   "execution_count": 27,
   "metadata": {},
   "outputs": [],
   "source": [
    "%%R \n",
    "library (GenomicFeatures)\n",
    "library (tidyverse)"
   ]
  },
  {
   "cell_type": "markdown",
   "metadata": {},
   "source": [
    "Absolute path to the annotation file"
   ]
  },
  {
   "cell_type": "code",
   "execution_count": 28,
   "metadata": {},
   "outputs": [],
   "source": [
    "%%R\n",
    "GTF = '/rumi/shams/abe/genomes/hg38/gencode.v34/gencode.v34.basic.annotation.gtf.gz'\n",
    "# GTF = 'gencode.v34.basic.annotation.gtf.gz'"
   ]
  },
  {
   "cell_type": "code",
   "execution_count": null,
   "metadata": {},
   "outputs": [],
   "source": []
  },
  {
   "cell_type": "code",
   "execution_count": 29,
   "metadata": {},
   "outputs": [],
   "source": [
    "%%R \n",
    "gtf <- rtracklayer::import(GTF)\n",
    "gene2name <- gtf[gtf$type == \"gene\"] %>% \n",
    "    data.frame %>% \n",
    "    column_to_rownames('gene_id') %>% \n",
    "    dplyr::select('gene_name')"
   ]
  },
  {
   "cell_type": "markdown",
   "metadata": {},
   "source": [
    "Add gene name column:"
   ]
  },
  {
   "cell_type": "code",
   "execution_count": 39,
   "metadata": {},
   "outputs": [],
   "source": [
    "%%R \n",
    "res = res %>%\n",
    "    data.frame %>% \n",
    "    add_column(name=gene2name[rownames(dds),])"
   ]
  },
  {
   "cell_type": "code",
   "execution_count": null,
   "metadata": {},
   "outputs": [],
   "source": []
  },
  {
   "cell_type": "code",
   "execution_count": null,
   "metadata": {},
   "outputs": [],
   "source": [
    "%%R \n",
    "write.table(res,'results_at_120h.txt', sep=\"\\t\", quote=FALSE, col=FALSE, row=FALSE)"
   ]
  },
  {
   "cell_type": "markdown",
   "metadata": {},
   "source": [
    "### 4. Get normalized counts "
   ]
  },
  {
   "cell_type": "code",
   "execution_count": 24,
   "metadata": {},
   "outputs": [
    {
     "name": "stdout",
     "output_type": "stream",
     "text": [
      "                   120h_DMSO_rep1 120h_DMSO_rep2 120h_treated_rep1\n",
      "ENSG00000000003.15       8.485357       13.34196         18.526391\n",
      "ENSG00000000419.12    1702.529959     1909.34179       1195.855818\n",
      "ENSG00000000457.14     154.842155      147.35534        170.500796\n",
      "ENSG00000000460.17     236.656253       21.46369          8.952925\n",
      "ENSG00000000938.13     140.012703      135.26403        944.259831\n",
      "ENSG00000000971.16       0.000000        0.00000          1.089788\n",
      "                   120h_treated_rep2 6h_DMSO_rep1 6h_DMSO_rep2 6h_treated_rep1\n",
      "ENSG00000000003.15         17.803727     10.24476       9.2117        9.160149\n",
      "ENSG00000000419.12       1064.564069   2332.84226    2113.2739     2248.394484\n",
      "ENSG00000000457.14        190.812696    133.32733     154.0523      164.564302\n",
      "ENSG00000000460.17        235.853591    340.61807     298.0294      156.710574\n",
      "ENSG00000000938.13        870.709096    134.06923     136.5650      211.136180\n",
      "ENSG00000000971.16          2.094556      0.00000       0.0000        0.000000\n",
      "                   6h_treated_rep2 72h_DMSO_rep1 72h_DMSO_rep2 72h_treated_rep1\n",
      "ENSG00000000003.15        11.32126      8.384649      4.072883        23.840369\n",
      "ENSG00000000419.12      1861.82746   1984.327899   2079.495374      1418.792512\n",
      "ENSG00000000457.14       173.57078    166.806096    169.386432       140.615478\n",
      "ENSG00000000460.17       143.87347    162.543608    195.791858       126.699374\n",
      "ENSG00000000938.13       167.21333    173.806127    197.558457       458.771152\n",
      "ENSG00000000971.16         0.00000      0.000000      0.000000         1.036538\n",
      "                   72h_treated_rep2\n",
      "ENSG00000000003.15         25.23476\n",
      "ENSG00000000419.12       1096.03240\n",
      "ENSG00000000457.14        209.61648\n",
      "ENSG00000000460.17         26.65984\n",
      "ENSG00000000938.13         52.34743\n",
      "ENSG00000000971.16          0.00000\n"
     ]
    }
   ],
   "source": [
    "%%R \n",
    "ncu <- counts(dds, normalized=TRUE) \n",
    "head(ncu )"
   ]
  },
  {
   "cell_type": "code",
   "execution_count": null,
   "metadata": {},
   "outputs": [],
   "source": [
    "%%R \n",
    "write.table(ncu,'DE2norm.txt', sep=\"\\t\", quote=FALSE, col.names=row.names(colData))"
   ]
  },
  {
   "cell_type": "markdown",
   "metadata": {},
   "source": [
    "# Data visualization"
   ]
  },
  {
   "cell_type": "markdown",
   "metadata": {},
   "source": [
    "Here we use `ggplot2` package to draw [Volcano_plot](https://en.wikipedia.org/wiki/Volcano_plot_(statistics)). "
   ]
  },
  {
   "cell_type": "code",
   "execution_count": 32,
   "metadata": {},
   "outputs": [],
   "source": [
    "%%R\n",
    "library (ggplot2)\n",
    "library (ggrepel)\n",
    "# library (patchwork)"
   ]
  },
  {
   "cell_type": "markdown",
   "metadata": {},
   "source": [
    "### 1. Define statistical significance threshold "
   ]
  },
  {
   "cell_type": "code",
   "execution_count": 34,
   "metadata": {},
   "outputs": [],
   "source": [
    "%%R \n",
    "\n",
    "lfc.cutoff  = 1\n",
    "pval.cutoff = 0.05\n",
    "title=''\n",
    "x_min=-20\n",
    "x_max=20\n",
    "\n",
    "\n",
    "res$sig <- as.factor(res$pvalue < pval.cutoff & abs(res$log2FoldChange) > lfc.cutoff)\n",
    "res$sig <- relevel(res$sig, ref=TRUE)"
   ]
  },
  {
   "cell_type": "markdown",
   "metadata": {},
   "source": [
    "### 2. Draw plot and include guides "
   ]
  },
  {
   "cell_type": "code",
   "execution_count": 40,
   "metadata": {},
   "outputs": [],
   "source": [
    "%%R\n",
    "res = res %>% data.frame \n",
    "vol = res %>% ggplot(\n",
    "    aes(x=log2FoldChange, y=-log10(pvalue), colour=sig, fill=sig)) +\n",
    "    geom_point(aes(color = sig),alpha = 1/10) +\n",
    "        # limit plot's axes\n",
    "        xlim(c(x_min,x_max)) +\n",
    "#         ylim(c(0,11)) +\n",
    "        # draw guide lines \n",
    "        geom_hline(yintercept=-log10(pval.cutoff), linetype=\"dashed\", alpha = 4/10) +\n",
    "        geom_vline(xintercept=lfc.cutoff, linetype=\"dashed\", alpha = 4/10) +\n",
    "        geom_vline(xintercept=(-1)*lfc.cutoff, linetype=\"dashed\", alpha = 4/10) +\n",
    "        scale_color_manual(values = c(\"grey\", \"red\")) +\n",
    "\n",
    "        theme_bw() + \n",
    "        theme(legend.position=\"none\") +\n",
    "        ggtitle (title) + \n",
    "        # show few top gene names in the plot  \n",
    "        geom_text_repel(\n",
    "            data = subset(res[order(res$pvalue),], sig == TRUE)[1:7,],\n",
    "            aes(label = name),\n",
    "            size = 3,\n",
    "            box.padding = unit(0.35, \"lines\"),\n",
    "            point.padding = unit(0.3, \"lines\")\n",
    "        )"
   ]
  },
  {
   "cell_type": "code",
   "execution_count": 41,
   "metadata": {},
   "outputs": [
    {
     "data": {
      "image/png": "[encoded data removed]"
     },
     "metadata": {},
     "output_type": "display_data"
    }
   ],
   "source": [
    "%%R \n",
    "vol"
   ]
  },
  {
   "cell_type": "markdown",
   "metadata": {},
   "source": [
    "### 3. Save plot into file "
   ]
  },
  {
   "cell_type": "code",
   "execution_count": null,
   "metadata": {},
   "outputs": [],
   "source": [
    "%%R \n",
    "ggsave(paste(name_it,'png',sep='.'), plot = p, device = 'png', dpi = 300)\n",
    "ggsave(paste(name_it,'pdf',sep='.'), plot = p, device = 'pdf', dpi = 300)"
   ]
  },
  {
   "cell_type": "code",
   "execution_count": 35,
   "metadata": {},
   "outputs": [
    {
     "name": "stdout",
     "output_type": "stream",
     "text": [
      "R version 3.5.1 (2018-07-02)\n",
      "Platform: x86_64-apple-darwin13.4.0 (64-bit)\n",
      "Running under: macOS  10.15.6\n",
      "\n",
      "Matrix products: default\n",
      "BLAS: /System/Library/Frameworks/Accelerate.framework/Versions/A/Frameworks/vecLib.framework/Versions/A/libBLAS.dylib\n",
      "LAPACK: /Users/abearab/anaconda3/envs/renv/lib/R/lib/libRblas.dylib\n",
      "\n",
      "locale:\n",
      "[1] en_US.UTF-8/en_US.UTF-8/en_US.UTF-8/C/en_US.UTF-8/en_US.UTF-8\n",
      "\n",
      "attached base packages:\n",
      " [1] stats4    parallel  tools     stats     graphics  grDevices utils    \n",
      " [8] datasets  methods   base     \n",
      "\n",
      "other attached packages:\n",
      " [1] ggrepel_0.8.2               ggplot2_3.0.0              \n",
      " [3] DESeq2_1.20.0               SummarizedExperiment_1.10.1\n",
      " [5] DelayedArray_0.6.6          BiocParallel_1.14.2        \n",
      " [7] matrixStats_0.56.0          tximport_1.10.1            \n",
      " [9] GenomicFeatures_1.32.3      AnnotationDbi_1.42.1       \n",
      "[11] Biobase_2.40.0              GenomicRanges_1.32.7       \n",
      "[13] GenomeInfoDb_1.16.0         IRanges_2.14.12            \n",
      "[15] S4Vectors_0.18.3            BiocGenerics_0.26.0        \n",
      "\n",
      "loaded via a namespace (and not attached):\n",
      " [1] bitops_1.0-6             bit64_0.9-7              RColorBrewer_1.1-2      \n",
      " [4] progress_1.2.2           httr_1.3.1               backports_1.1.2         \n",
      " [7] R6_2.2.2                 rpart_4.1-13             Hmisc_4.1-1             \n",
      "[10] DBI_1.0.0                lazyeval_0.2.1           colorspace_1.3-2        \n",
      "[13] nnet_7.3-12              withr_2.1.2              tidyselect_0.2.4        \n",
      "[16] gridExtra_2.3            prettyunits_1.0.2        bit_1.1-14              \n",
      "[19] compiler_3.5.1           htmlTable_1.12           rtracklayer_1.40.6      \n",
      "[22] labeling_0.3             scales_0.5.0             checkmate_1.8.5         \n",
      "[25] readr_1.1.1              genefilter_1.62.0        stringr_1.3.1           \n",
      "[28] digest_0.6.15            Rsamtools_1.32.3         foreign_0.8-71          \n",
      "[31] XVector_0.20.0           base64enc_0.1-3          pkgconfig_2.0.1         \n",
      "[34] htmltools_0.3.6          htmlwidgets_1.2          rlang_0.2.1             \n",
      "[37] rstudioapi_0.7           RSQLite_2.1.1            bindr_0.1.1             \n",
      "[40] jsonlite_1.5             acepack_1.4.1            dplyr_0.7.6             \n",
      "[43] RCurl_1.95-4.11          magrittr_1.5             GenomeInfoDbData_1.2.1  \n",
      "[46] Formula_1.2-3            Matrix_1.2-14            Rcpp_0.12.18            \n",
      "[49] munsell_0.5.0            stringi_1.2.4            zlibbioc_1.26.0         \n",
      "[52] plyr_1.8.4               grid_3.5.1               blob_1.1.1              \n",
      "[55] crayon_1.3.4             lattice_0.20-35          Biostrings_2.48.0       \n",
      "[58] splines_3.5.1            annotate_1.58.0          hms_0.4.2               \n",
      "[61] locfit_1.5-9.4           knitr_1.20               pillar_1.3.0            \n",
      "[64] geneplotter_1.58.0       biomaRt_2.36.1           XML_3.98-1.12           \n",
      "[67] glue_1.3.0               latticeExtra_0.6-28      data.table_1.11.4       \n",
      "[70] gtable_0.2.0             purrr_0.2.5              assertthat_0.2.0        \n",
      "[73] xtable_1.8-2             survival_2.42-6          tibble_1.4.2            \n",
      "[76] GenomicAlignments_1.16.0 memoise_1.1.0            bindrcpp_0.2.2          \n",
      "[79] cluster_2.0.7-1         \n"
     ]
    }
   ],
   "source": [
    "%%R\n",
    "sessionInfo()"
   ]
  },
  {
   "cell_type": "code",
   "execution_count": null,
   "metadata": {},
   "outputs": [],
   "source": []
  }
 ],
 "metadata": {
  "kernelspec": {
   "display_name": "Python [conda env:deseq]",
   "language": "python",
   "name": "conda-env-deseq-py"
  },
  "language_info": {
   "codemirror_mode": {
    "name": "ipython",
    "version": 3
   },
   "file_extension": ".py",
   "mimetype": "text/x-python",
   "name": "python",
   "nbconvert_exporter": "python",
   "pygments_lexer": "ipython3",
   "version": "3.7.3"
  }
 },
 "nbformat": 4,
 "nbformat_minor": 4
}
